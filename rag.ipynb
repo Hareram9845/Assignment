{
  "nbformat": 4,
  "nbformat_minor": 0,
  "metadata": {
    "colab": {
      "provenance": [],
      "authorship_tag": "ABX9TyONWdABUSdZaPe4IDEgdG3w",
      "include_colab_link": true
    },
    "kernelspec": {
      "name": "python3",
      "display_name": "Python 3"
    },
    "language_info": {
      "name": "python"
    }
  },
  "cells": [
    {
      "cell_type": "markdown",
      "metadata": {
        "id": "view-in-github",
        "colab_type": "text"
      },
      "source": [
        "<a href=\"https://colab.research.google.com/github/Hareram9845/Assignment/blob/main/rag.ipynb\" target=\"_parent\"><img src=\"https://colab.research.google.com/assets/colab-badge.svg\" alt=\"Open In Colab\"/></a>"
      ]
    },
    {
      "cell_type": "markdown",
      "source": [
        "Convert course PDFs into a machine-readable format (e.g., text) using libraries like PyPDF2 or pdfplumber."
      ],
      "metadata": {
        "id": "2frp-wnh4re_"
      }
    },
    {
      "cell_type": "code",
      "source": [
        "pip install transformers datasets faiss-cpu PyPDF2\n"
      ],
      "metadata": {
        "id": "SKR2Detz4vHp"
      },
      "execution_count": null,
      "outputs": []
    },
    {
      "cell_type": "markdown",
      "source": [
        "Load the RAG model from Hugging Face:"
      ],
      "metadata": {
        "id": "stc7K4da40X8"
      }
    },
    {
      "cell_type": "code",
      "source": [
        "from transformers import RagTokenizer, RagRetriever, RagSequenceForGeneration\n",
        "\n",
        "tokenizer = RagTokenizer.from_pretrained(\"facebook/rag-sequence-base\")\n",
        "retriever = RagRetriever.from_pretrained(\"facebook/rag-sequence-base\")\n",
        "model = RagSequenceForGeneration.from_pretrained(\"facebook/rag-sequence-base\", retriever=retriever)\n"
      ],
      "metadata": {
        "id": "34qtTG7G4461"
      },
      "execution_count": null,
      "outputs": []
    },
    {
      "cell_type": "markdown",
      "source": [
        "Extract the text from the PDFs and preprocess the data to form a knowledge base for the RAG model:"
      ],
      "metadata": {
        "id": "2nNl2G335BeW"
      }
    },
    {
      "cell_type": "code",
      "source": [
        "from PyPDF2 import PdfReader\n",
        "\n",
        "def extract_text_from_pdfs(pdf_files):\n",
        "    texts = []\n",
        "    for pdf in pdf_files:\n",
        "        reader = PdfReader(pdf)\n",
        "        for page in reader.pages:\n",
        "            texts.append(page.extract_text())\n",
        "    return texts\n",
        "\n",
        "# List of PDF paths\n",
        "pdf_files = [\"course1.pdf\", \"course2.pdf\"]\n",
        "texts = extract_text_from_pdfs(pdf_files)\n"
      ],
      "metadata": {
        "id": "rgqk9oSr5IjY"
      },
      "execution_count": null,
      "outputs": []
    },
    {
      "cell_type": "markdown",
      "source": [
        "FAISS or another retriever system to index the extracted text for retrieval by the RAG model."
      ],
      "metadata": {
        "id": "aJAvQajM5Mbx"
      }
    },
    {
      "cell_type": "code",
      "source": [
        "from datasets import Dataset\n",
        "knowledge_dataset = Dataset.from_dict({\"text\": texts})\n",
        "retriever.index_documents(knowledge_dataset)\n"
      ],
      "metadata": {
        "id": "0JJU-rhB5QxW"
      },
      "execution_count": null,
      "outputs": []
    },
    {
      "cell_type": "markdown",
      "source": [
        "Once the RAG model is ready, pass the user query to generate a question:"
      ],
      "metadata": {
        "id": "W6_ty9IN5V_t"
      }
    },
    {
      "cell_type": "code",
      "source": [
        "inputs = tokenizer(\"Explain the topic of Machine Learning?\", return_tensors=\"pt\")\n",
        "generated = model.generate(**inputs)\n",
        "print(tokenizer.batch_decode(generated, skip_special_tokens=True))\n"
      ],
      "metadata": {
        "id": "9G2Ytalf5XBB"
      },
      "execution_count": null,
      "outputs": []
    }
  ]
}