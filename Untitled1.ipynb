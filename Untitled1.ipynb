{
  "nbformat": 4,
  "nbformat_minor": 0,
  "metadata": {
    "colab": {
      "provenance": [],
      "authorship_tag": "ABX9TyM+GL/uzOnaSTEUeDSpcfW1",
      "include_colab_link": true
    },
    "kernelspec": {
      "name": "python3",
      "display_name": "Python 3"
    },
    "language_info": {
      "name": "python"
    }
  },
  "cells": [
    {
      "cell_type": "markdown",
      "metadata": {
        "id": "view-in-github",
        "colab_type": "text"
      },
      "source": [
        "<a href=\"https://colab.research.google.com/github/Hareram9845/Assignment/blob/main/Untitled1.ipynb\" target=\"_parent\"><img src=\"https://colab.research.google.com/assets/colab-badge.svg\" alt=\"Open In Colab\"/></a>"
      ]
    },
    {
      "cell_type": "code",
      "execution_count": 2,
      "metadata": {
        "colab": {
          "base_uri": "https://localhost:8080/"
        },
        "id": "4M9bY5H7hryQ",
        "outputId": "db4ec1f2-070d-41ef-f85c-3f352035a8cd"
      },
      "outputs": [
        {
          "output_type": "stream",
          "name": "stdout",
          "text": [
            "0\n",
            "12\n"
          ]
        }
      ],
      "source": [
        "def countDiverseSubarrays(nums, m):\n",
        "    n = len(nums)\n",
        "    count = 0\n",
        "    left = 0\n",
        "    freq_map = {}\n",
        "    distinct_count = 0\n",
        "\n",
        "    for i in range(n):\n",
        "        # Add the current element to the window\n",
        "        if nums[i] not in freq_map:\n",
        "            freq_map[nums[i]] = 0\n",
        "        freq_map[nums[i]] += 1\n",
        "\n",
        "        if freq_map[nums[i]] == 1:\n",
        "            distinct_count += 1\n",
        "\n",
        "        # Shrink the window from the left if we have enough distinct integers\n",
        "        while distinct_count >= m:\n",
        "            count += n - i\n",
        "\n",
        "            # Remove the leftmost element from the window\n",
        "            freq_map[nums[i]] -= 1\n",
        "            if freq_map[nums[i]] == 0:\n",
        "                distinct_count -= 1\n",
        "            left += 1\n",
        "\n",
        "    return count\n",
        "\n",
        "print(countDiverseSubarrays([1, 2, 2, 1], 3))  # Output: 0\n",
        "print(countDiverseSubarrays([1, 2, 2, 1, 3, 3], 2))  # Output: 11"
      ]
    }
  ]
}